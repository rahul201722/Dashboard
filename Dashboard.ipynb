{
 "cells": [
  {
   "cell_type": "code",
   "execution_count": 10,
   "id": "07a1c10e-0430-4dbd-aa47-b82a90467497",
   "metadata": {},
   "outputs": [
    {
     "name": "stdout",
     "output_type": "stream",
     "text": [
      "  parentTconst  num_episodes     tconst titleType  \\\n",
      "0    tt0035599             1  tt0035599  tvSeries   \n",
      "1    tt0035803             8  tt0035803  tvSeries   \n",
      "2    tt0038276             7  tt0038276  tvSeries   \n",
      "3    tt0039120             4  tt0039120  tvSeries   \n",
      "4    tt0039122             6  tt0039122  tvSeries   \n",
      "\n",
      "                  primaryTitle                originalTitle isAdult startYear  \\\n",
      "0  Voice of Firestone Televues  Voice of Firestone Televues       0      1943   \n",
      "1     The German Weekly Review     Die Deutsche Wochenschau       0      1940   \n",
      "2            You Are an Artist            You Are an Artist       0      1946   \n",
      "3                    Americana                    Americana       0      1947   \n",
      "4              The Borden Show              The Borden Show       0      1947   \n",
      "\n",
      "  endYear runtimeMinutes            genres  \n",
      "0    1947             15                \\N  \n",
      "1    1945             \\N  Documentary,News  \n",
      "2    1955             15         Talk-Show  \n",
      "3    1949             30  Family,Game-Show  \n",
      "4      \\N             30      Comedy,Music  \n"
     ]
    }
   ],
   "source": [
    "import pandas as pd\n",
    "\n",
    "# Load the dataset\n",
    "basics = pd.read_csv('title.basics.tsv', sep='\\t', low_memory=False)\n",
    "episodes = pd.read_csv('title.episode.tsv', sep='\\t', low_memory=False)\n",
    "\n",
    "# Group by parentTconst to find shows with 1 season or less\n",
    "one_season_shows = episodes.groupby('parentTconst').size()\n",
    "one_season_shows = one_season_shows[one_season_shows <= 20]  # Assuming <=10 episodes indicates 1 season\n",
    "\n",
    "# Convert the Series to a DataFrame and rename the column\n",
    "one_season_shows = one_season_shows.reset_index(name='num_episodes')\n",
    "\n",
    "# Merge with title basics for additional information\n",
    "one_season_info = pd.merge(one_season_shows, basics, left_on='parentTconst', right_on='tconst')\n",
    "\n",
    "# Display the resulting DataFrame\n",
    "print(one_season_info.head())\n"
   ]
  },
  {
   "cell_type": "code",
   "execution_count": 11,
   "id": "148b222b-2f24-44f7-b569-3c4be085a52e",
   "metadata": {},
   "outputs": [
    {
     "name": "stdout",
     "output_type": "stream",
     "text": [
      "(156039, 11)\n"
     ]
    }
   ],
   "source": [
    "# show size of the resulting DataFrame\n",
    "print(one_season_info.shape)"
   ]
  },
  {
   "cell_type": "code",
   "execution_count": 13,
   "id": "c3f42868-7dd4-4741-85aa-6179d2490dbb",
   "metadata": {},
   "outputs": [
    {
     "name": "stderr",
     "output_type": "stream",
     "text": [
      "2024-09-29 02:25:05.741 Thread 'MainThread': missing ScriptRunContext! This warning can be ignored when running in bare mode.\n",
      "2024-09-29 02:25:05.742 Thread 'MainThread': missing ScriptRunContext! This warning can be ignored when running in bare mode.\n",
      "2024-09-29 02:25:05.742 Thread 'MainThread': missing ScriptRunContext! This warning can be ignored when running in bare mode.\n",
      "2024-09-29 02:25:05.742 Thread 'MainThread': missing ScriptRunContext! This warning can be ignored when running in bare mode.\n",
      "2024-09-29 02:25:06.558 Thread 'MainThread': missing ScriptRunContext! This warning can be ignored when running in bare mode.\n",
      "2024-09-29 02:25:16.589 Thread 'MainThread': missing ScriptRunContext! This warning can be ignored when running in bare mode.\n",
      "2024-09-29 02:25:16.590 Thread 'MainThread': missing ScriptRunContext! This warning can be ignored when running in bare mode.\n",
      "2024-09-29 02:25:16.590 Thread 'MainThread': missing ScriptRunContext! This warning can be ignored when running in bare mode.\n",
      "2024-09-29 02:25:16.590 Thread 'MainThread': missing ScriptRunContext! This warning can be ignored when running in bare mode.\n",
      "/var/folders/lr/j7xzxj1d3zdf2pnr85f8t2mr0000gn/T/ipykernel_29040/2788460806.py:36: FutureWarning: \n",
      "\n",
      "Passing `palette` without assigning `hue` is deprecated and will be removed in v0.14.0. Assign the `y` variable to `hue` and set `legend=False` for the same effect.\n",
      "\n",
      "  sns.countplot(y='genres', data=genre_data, order=genre_data['genres'].value_counts().index, palette='pastel')\n",
      "2024-09-29 02:25:19.765 Thread 'MainThread': missing ScriptRunContext! This warning can be ignored when running in bare mode.\n",
      "2024-09-29 02:25:22.090 Thread 'MainThread': missing ScriptRunContext! This warning can be ignored when running in bare mode.\n",
      "2024-09-29 02:25:22.091 Thread 'MainThread': missing ScriptRunContext! This warning can be ignored when running in bare mode.\n",
      "2024-09-29 02:25:22.091 Thread 'MainThread': missing ScriptRunContext! This warning can be ignored when running in bare mode.\n",
      "2024-09-29 02:25:22.091 Thread 'MainThread': missing ScriptRunContext! This warning can be ignored when running in bare mode.\n",
      "2024-09-29 02:25:22.111 Thread 'MainThread': missing ScriptRunContext! This warning can be ignored when running in bare mode.\n",
      "2024-09-29 02:25:22.195 Thread 'MainThread': missing ScriptRunContext! This warning can be ignored when running in bare mode.\n",
      "2024-09-29 02:25:22.195 Thread 'MainThread': missing ScriptRunContext! This warning can be ignored when running in bare mode.\n",
      "2024-09-29 02:25:22.196 Thread 'MainThread': missing ScriptRunContext! This warning can be ignored when running in bare mode.\n",
      "2024-09-29 02:25:22.196 Thread 'MainThread': missing ScriptRunContext! This warning can be ignored when running in bare mode.\n",
      "/var/folders/lr/j7xzxj1d3zdf2pnr85f8t2mr0000gn/T/ipykernel_29040/2788460806.py:54: FutureWarning: \n",
      "\n",
      "Passing `palette` without assigning `hue` is deprecated and will be removed in v0.14.0. Assign the `y` variable to `hue` and set `legend=False` for the same effect.\n",
      "\n",
      "  sns.barplot(data=top_runtime_shows, x='runtimeMinutes', y='primaryTitle', ax=ax, palette='magma')\n",
      "2024-09-29 02:25:22.278 Thread 'MainThread': missing ScriptRunContext! This warning can be ignored when running in bare mode.\n",
      "2024-09-29 02:25:22.380 Thread 'MainThread': missing ScriptRunContext! This warning can be ignored when running in bare mode.\n",
      "2024-09-29 02:25:22.380 Thread 'MainThread': missing ScriptRunContext! This warning can be ignored when running in bare mode.\n",
      "2024-09-29 02:25:22.380 Thread 'MainThread': missing ScriptRunContext! This warning can be ignored when running in bare mode.\n",
      "2024-09-29 02:25:22.381 Thread 'MainThread': missing ScriptRunContext! This warning can be ignored when running in bare mode.\n",
      "/var/folders/lr/j7xzxj1d3zdf2pnr85f8t2mr0000gn/T/ipykernel_29040/2788460806.py:62: FutureWarning: \n",
      "\n",
      "Passing `palette` without assigning `hue` is deprecated and will be removed in v0.14.0. Assign the `y` variable to `hue` and set `legend=False` for the same effect.\n",
      "\n",
      "  sns.boxplot(x='startYear', y='genres', data=genre_data, palette='coolwarm')\n",
      "2024-09-29 02:25:28.707 Thread 'MainThread': missing ScriptRunContext! This warning can be ignored when running in bare mode.\n",
      "2024-09-29 02:25:31.332 Thread 'MainThread': missing ScriptRunContext! This warning can be ignored when running in bare mode.\n",
      "2024-09-29 02:25:31.332 Thread 'MainThread': missing ScriptRunContext! This warning can be ignored when running in bare mode.\n",
      "2024-09-29 02:25:31.333 Thread 'MainThread': missing ScriptRunContext! This warning can be ignored when running in bare mode.\n",
      "2024-09-29 02:25:31.333 Thread 'MainThread': missing ScriptRunContext! This warning can be ignored when running in bare mode.\n"
     ]
    },
    {
     "data": {
      "text/plain": [
       "DeltaGenerator()"
      ]
     },
     "execution_count": 13,
     "metadata": {},
     "output_type": "execute_result"
    }
   ],
   "source": [
    "import streamlit as st\n",
    "import pandas as pd\n",
    "import matplotlib.pyplot as plt\n",
    "import seaborn as sns\n",
    "\n",
    "# Load the data (Use the processed DataFrame `one_season_info`)\n",
    "# If you saved the processed data to a CSV file, you could load it like this:\n",
    "# df = pd.read_csv('one_season_shows_processed.csv')\n",
    "# Assuming `one_season_info` is already available in your environment\n",
    "\n",
    "# For the purpose of this code, we'll assume `one_season_info` is already loaded:\n",
    "df = one_season_info  # Use the processed DataFrame\n",
    "\n",
    "df.replace('\\\\N', pd.NA, inplace=True)\n",
    "\n",
    "# Convert numeric columns\n",
    "df['startYear'] = pd.to_numeric(df['startYear'], errors='coerce')\n",
    "df['endYear'] = pd.to_numeric(df['endYear'], errors='coerce')\n",
    "df['runtimeMinutes'] = pd.to_numeric(df['runtimeMinutes'], errors='coerce')\n",
    "\n",
    "# Set the title and layout of the Streamlit app\n",
    "st.title('One-Season TV Shows Analysis Dashboard')\n",
    "\n",
    "# First Visualization: Number of Episodes vs. Start Year\n",
    "st.subheader('Number of Episodes vs. Start Year')\n",
    "fig, ax = plt.subplots()\n",
    "sns.scatterplot(data=df, x='startYear', y='num_episodes', hue='genres', ax=ax, palette='viridis')\n",
    "ax.set_xlabel('Start Year')\n",
    "ax.set_ylabel('Number of Episodes')\n",
    "st.pyplot(fig)\n",
    "\n",
    "# Second Visualization: Distribution of Genres\n",
    "st.subheader('Distribution of Genres in One-Season Shows')\n",
    "genre_data = df.explode('genres')\n",
    "fig, ax = plt.subplots()\n",
    "sns.countplot(y='genres', data=genre_data, order=genre_data['genres'].value_counts().index, palette='pastel')\n",
    "ax.set_xlabel('Number of Shows')\n",
    "ax.set_ylabel('Genres')\n",
    "st.pyplot(fig)\n",
    "\n",
    "# Third Visualization: Number of One-Season Shows Over Time\n",
    "st.subheader('Number of One-Season Shows Over Time')\n",
    "shows_per_year = df.groupby('startYear').size().reset_index(name='counts')\n",
    "fig, ax = plt.subplots()\n",
    "sns.lineplot(data=shows_per_year, x='startYear', y='counts', marker='o', ax=ax)\n",
    "ax.set_ylabel('Number of Shows')\n",
    "ax.set_xlabel('Year')\n",
    "st.pyplot(fig)\n",
    "\n",
    "# Fourth Visualization: Longest Runtime One-Season Shows\n",
    "st.subheader('Longest Runtime One-Season Shows')\n",
    "top_runtime_shows = df.nlargest(10, 'runtimeMinutes')\n",
    "fig, ax = plt.subplots()\n",
    "sns.barplot(data=top_runtime_shows, x='runtimeMinutes', y='primaryTitle', ax=ax, palette='magma')\n",
    "ax.set_xlabel('Runtime (minutes)')\n",
    "ax.set_ylabel('Show Title')\n",
    "st.pyplot(fig)\n",
    "\n",
    "# Fifth Visualization: Genres by Start Year\n",
    "st.subheader('Genres by Start Year')\n",
    "fig, ax = plt.subplots()\n",
    "sns.boxplot(x='startYear', y='genres', data=genre_data, palette='coolwarm')\n",
    "ax.set_xlabel('Start Year')\n",
    "ax.set_ylabel('Genres')\n",
    "st.pyplot(fig)\n",
    "\n",
    "st.markdown(\"**Data Source:** IMDB\")\n",
    "\n"
   ]
  },
  {
   "cell_type": "code",
   "execution_count": null,
   "id": "17866672-3277-4c3e-ab74-2515f51b524d",
   "metadata": {},
   "outputs": [],
   "source": []
  }
 ],
 "metadata": {
  "kernelspec": {
   "display_name": "Python 3 (ipykernel)",
   "language": "python",
   "name": "python3"
  },
  "language_info": {
   "codemirror_mode": {
    "name": "ipython",
    "version": 3
   },
   "file_extension": ".py",
   "mimetype": "text/x-python",
   "name": "python",
   "nbconvert_exporter": "python",
   "pygments_lexer": "ipython3",
   "version": "3.9.20"
  }
 },
 "nbformat": 4,
 "nbformat_minor": 5
}
