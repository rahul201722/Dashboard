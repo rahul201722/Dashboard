{
 "cells": [
  {
   "cell_type": "code",
   "execution_count": 10,
   "id": "07a1c10e-0430-4dbd-aa47-b82a90467497",
   "metadata": {},
   "outputs": [
    {
     "name": "stdout",
     "output_type": "stream",
     "text": [
      "  parentTconst  num_episodes     tconst titleType  \\\n",
      "0    tt0035599             1  tt0035599  tvSeries   \n",
      "1    tt0035803             8  tt0035803  tvSeries   \n",
      "2    tt0038276             7  tt0038276  tvSeries   \n",
      "3    tt0039120             4  tt0039120  tvSeries   \n",
      "4    tt0039122             6  tt0039122  tvSeries   \n",
      "\n",
      "                  primaryTitle                originalTitle isAdult startYear  \\\n",
      "0  Voice of Firestone Televues  Voice of Firestone Televues       0      1943   \n",
      "1     The German Weekly Review     Die Deutsche Wochenschau       0      1940   \n",
      "2            You Are an Artist            You Are an Artist       0      1946   \n",
      "3                    Americana                    Americana       0      1947   \n",
      "4              The Borden Show              The Borden Show       0      1947   \n",
      "\n",
      "  endYear runtimeMinutes            genres  \n",
      "0    1947             15                \\N  \n",
      "1    1945             \\N  Documentary,News  \n",
      "2    1955             15         Talk-Show  \n",
      "3    1949             30  Family,Game-Show  \n",
      "4      \\N             30      Comedy,Music  \n"
     ]
    }
   ],
   "source": [
    "import pandas as pd\n",
    "\n",
    "# Load the dataset\n",
    "basics = pd.read_csv('title.basics.tsv', sep='\\t', low_memory=False)\n",
    "episodes = pd.read_csv('title.episode.tsv', sep='\\t', low_memory=False)\n",
    "\n",
    "# Group by parentTconst to find shows with 1 season or less\n",
    "one_season_shows = episodes.groupby('parentTconst').size()\n",
    "one_season_shows = one_season_shows[one_season_shows <= 20]  # Assuming <=10 episodes indicates 1 season\n",
    "\n",
    "# Convert the Series to a DataFrame and rename the column\n",
    "one_season_shows = one_season_shows.reset_index(name='num_episodes')\n",
    "\n",
    "# Merge with title basics for additional information\n",
    "one_season_info = pd.merge(one_season_shows, basics, left_on='parentTconst', right_on='tconst')\n",
    "\n",
    "# Display the resulting DataFrame\n",
    "print(one_season_info.head())\n"
   ]
  },
  {
   "cell_type": "code",
   "execution_count": null,
   "id": "148b222b-2f24-44f7-b569-3c4be085a52e",
   "metadata": {},
   "outputs": [],
   "source": []
  }
 ],
 "metadata": {
  "kernelspec": {
   "display_name": "Python 3 (ipykernel)",
   "language": "python",
   "name": "python3"
  },
  "language_info": {
   "codemirror_mode": {
    "name": "ipython",
    "version": 3
   },
   "file_extension": ".py",
   "mimetype": "text/x-python",
   "name": "python",
   "nbconvert_exporter": "python",
   "pygments_lexer": "ipython3",
   "version": "3.9.20"
  }
 },
 "nbformat": 4,
 "nbformat_minor": 5
}
